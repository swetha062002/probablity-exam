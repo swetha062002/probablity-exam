{
  "nbformat": 4,
  "nbformat_minor": 0,
  "metadata": {
    "colab": {
      "name": "Untitled31.ipynb",
      "provenance": []
    },
    "kernelspec": {
      "name": "python3",
      "display_name": "Python 3"
    },
    "language_info": {
      "name": "python"
    }
  },
  "cells": [
    {
      "cell_type": "code",
      "source": [
        "#Q1.probality of getting one diamond card, one heart and one spade?\n",
        "#probablity of getting one diamond card=(13/52)\n",
        "#probablity of getting one heart card =(13/51)\n",
        "#probablity of getting one spade card =(13/50)\n",
        "#probablity =(13/52)*(13/51)*(13/50) \n",
        "a=13/52\n",
        "b=13/51\n",
        "c=13/50\n",
        "prob=a*b*c\n",
        "print(prob)"
      ],
      "metadata": {
        "colab": {
          "base_uri": "https://localhost:8080/"
        },
        "id": "YcDnvT63SGxZ",
        "outputId": "ce20188c-dd10-4c10-bc92-30ac67d85ccb"
      },
      "execution_count": 2,
      "outputs": [
        {
          "output_type": "stream",
          "name": "stdout",
          "text": [
            "0.01656862745098039\n"
          ]
        }
      ]
    },
    {
      "cell_type": "code",
      "source": [
        "#Q2.EITHER OR PROBABLITY\n",
        "#(1).p(ACTION OR DRAMA)=p(ACTION) + P(DRAMA)\n",
        "#(42/100)+(36/100)\n",
        "\n",
        "#(2).P(COMEDY OR HORROR)=P(COMEDY)+p(HORROR)\n",
        "#(54/100) + (12/100)\n",
        "\n",
        "action=float(input(\"action\"))\n",
        "drama=float(input(\"drama\"))\n",
        "comedy=float(input(\"comedy\"))\n",
        "horror=float(input(\"horror\"))\n",
        "a=action+drama\n",
        "b=comedy+horror\n",
        "print(\"PROBABLITY OF FAV MOVIE TYPE IS EITHER ACTION OR DRAMA : \",a)\n",
        "print(\"PROBABLITY OF FAV MOVIE TYPE IS EITHER COMEDY OR HORROR : \",b)"
      ],
      "metadata": {
        "colab": {
          "base_uri": "https://localhost:8080/"
        },
        "id": "B0EpGDLITC36",
        "outputId": "b7cf07b5-b69f-48f1-f92d-dd36ef56bf79"
      },
      "execution_count": 7,
      "outputs": [
        {
          "output_type": "stream",
          "name": "stdout",
          "text": [
            "action0.42\n",
            "drama0.36\n",
            "comedy0.54\n",
            "horror0.12\n",
            "PROBABLITY OF FAV MOVIE TYPE IS EITHER ACTION OR DRAMA :  0.78\n",
            "PROBABLITY OF FAV MOVIE TYPE IS EITHER COMEDY OR HORROR :  0.66\n"
          ]
        }
      ]
    },
    {
      "cell_type": "code",
      "source": [
        "#Q3.BAG A= 3 RED,5 BLACK;\n",
        "#BAG B =4 WHITE, 7 BLACK;\n",
        "#P(GETTING A BAG)=1/2\n",
        "#P(GETTING B BAG)=1/2\n",
        "#P(GETTING BLACK BALL FROM BAG A)=5/8\n",
        "#P(GETTING BLACK BALL FROM BAG B)=7/11\n",
        "#P(GETTING BLACK FROM B)=(P(B)*P(B/B))/P(A)*P(B/A)+P(B)*P(B/B))\n",
        "0.318/0.630\n"
      ],
      "metadata": {
        "colab": {
          "base_uri": "https://localhost:8080/"
        },
        "id": "O2U57cJqaqbw",
        "outputId": "7ec9ffe3-1a80-482d-c6a6-bf0495b79dd9"
      },
      "execution_count": 19,
      "outputs": [
        {
          "output_type": "execute_result",
          "data": {
            "text/plain": [
              "0.5047619047619047"
            ]
          },
          "metadata": {},
          "execution_count": 19
        }
      ]
    },
    {
      "cell_type": "code",
      "source": [
        "#Q4.450 APPLICANTS IN 1 HOUR \n",
        "#BY POISSON DISTRIBUTION\n",
        "#A)recieving 10 applicants in 1 min:\n",
        "#x=10,y=15/2\n",
        "#p(x=x)=(e**(-15/2).(15/2)**10)/10\n",
        "#=0.0858\n",
        "#b)recieving atleast 17 applicants in 2 minutes\n",
        "#p(X= x)=(e**(-15/2).(15/2)**17)/17\n",
        "0.6321"
      ],
      "metadata": {
        "colab": {
          "base_uri": "https://localhost:8080/"
        },
        "id": "OuwUa2W8cSgQ",
        "outputId": "c316ed08-fc14-4188-d7f6-d85d6747890b"
      },
      "execution_count": 10,
      "outputs": [
        {
          "output_type": "execute_result",
          "data": {
            "text/plain": [
              "0.6321"
            ]
          },
          "metadata": {},
          "execution_count": 10
        }
      ]
    },
    {
      "cell_type": "code",
      "source": [
        "#q6.z=(x-μ)/σ\n",
        "z=0.675\n",
        "μ=350870\n",
        "σ=12405\n",
        "x=σ*z+μ\n",
        "print(x)"
      ],
      "metadata": {
        "colab": {
          "base_uri": "https://localhost:8080/"
        },
        "id": "5EajB7RtjGDa",
        "outputId": "1bb86072-8262-4934-8abf-57e23b7bb392"
      },
      "execution_count": 12,
      "outputs": [
        {
          "output_type": "stream",
          "name": "stdout",
          "text": [
            "359243.375\n"
          ]
        }
      ]
    },
    {
      "cell_type": "code",
      "source": [
        "#q9.\n",
        "from scipy.stats import poisson\n",
        "proba=poisson.pmf(k=80,mu=76)\n",
        "proba"
      ],
      "metadata": {
        "colab": {
          "base_uri": "https://localhost:8080/"
        },
        "id": "xZC2tOMImQ-Q",
        "outputId": "2d7c9449-3eb9-44b8-baab-a75e8a2f28b7"
      },
      "execution_count": 14,
      "outputs": [
        {
          "output_type": "execute_result",
          "data": {
            "text/plain": [
              "0.040177141568228006"
            ]
          },
          "metadata": {},
          "execution_count": 14
        }
      ]
    },
    {
      "cell_type": "code",
      "source": [
        "#Q7\n",
        "union=[44,21,36,34,77,32,29,39,92,67,45,37]\n",
        "mount=[47,81,41,79,38,20,33,83,41,40,69,36]\n",
        "import numpy as np\n",
        "x = np.array(union)\n",
        "y = np.array(mount)\n",
        "f = np.var(x, ddof=1)/np.var(y, ddof=1)\n",
        "print(\"the value of F-statistic :\",f)"
      ],
      "metadata": {
        "colab": {
          "base_uri": "https://localhost:8080/"
        },
        "id": "ayitZDbSyMqC",
        "outputId": "a7cbab3e-336e-4e36-8866-47fbffc2d262"
      },
      "execution_count": 16,
      "outputs": [
        {
          "output_type": "stream",
          "name": "stdout",
          "text": [
            "the value of F-statistic : 0.9921235138705414\n"
          ]
        }
      ]
    },
    {
      "cell_type": "code",
      "source": [
        ""
      ],
      "metadata": {
        "id": "uEpDOiI5yqwO"
      },
      "execution_count": null,
      "outputs": []
    }
  ]
}